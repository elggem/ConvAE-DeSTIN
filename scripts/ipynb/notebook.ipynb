{
 "cells": [
  {
   "cell_type": "code",
   "execution_count": 17,
   "metadata": {
    "collapsed": false
   },
   "outputs": [],
   "source": [
    "import sys\n",
    "sys.path.append(\"..\")\n",
    "\n",
    "import numpy as np\n",
    "import scipy.misc as smp\n",
    "import matplotlib.pyplot as plt\n",
    "import cPickle as pickle\n",
    "\n",
    "import theano\n",
    "import theano.tensor as T\n",
    "\n",
    "import scae_destin.datasets as ds\n",
    "from scae_destin.fflayers import ReLULayer\n",
    "from scae_destin.fflayers import SoftmaxLayer\n",
    "from scae_destin.convnet import ReLUConvLayer\n",
    "from scae_destin.convnet import SigmoidConvLayer\n",
    "from scae_destin.model import ConvAutoEncoder\n",
    "from scae_destin.convnet import MaxPooling\n",
    "from scae_destin.convnet import Flattener\n",
    "from scae_destin.model import FeedForward\n",
    "from scae_destin.optimize import gd_updates\n",
    "from scae_destin.cost import mean_square_cost\n",
    "from scae_destin.cost import categorical_cross_entropy_cost\n",
    "from scae_destin.cost import L2_regularization"
   ]
  },
  {
   "cell_type": "code",
   "execution_count": 2,
   "metadata": {
    "collapsed": false
   },
   "outputs": [
    {
     "name": "stdout",
     "output_type": "stream",
     "text": [
      "[MESSAGE] The data is loaded\n"
     ]
    }
   ],
   "source": [
    "n_epochs=1\n",
    "batch_size=100\n",
    "nkerns=100\n",
    "\n",
    "Xtr, Ytr=ds.load_CIFAR_batch(\"../cifar-10-batches-py/data_batch_1\")\n",
    "\n",
    "Xtr=np.mean(Xtr, 3)\n",
    "Xtrain=Xtr.reshape(Xtr.shape[0], Xtr.shape[1]*Xtr.shape[2])/255.0\n",
    "\n",
    "\n",
    "train_set_x, train_set_y=ds.shared_dataset((Xtrain, Ytr))\n",
    "\n",
    "n_train_batches=train_set_x.get_value(borrow=True).shape[0]/batch_size\n",
    "\n",
    "print \"[MESSAGE] The data is loaded\"\n"
   ]
  },
  {
   "cell_type": "code",
   "execution_count": 3,
   "metadata": {
    "collapsed": false
   },
   "outputs": [
    {
     "name": "stdout",
     "output_type": "stream",
     "text": [
      "[MESSAGE] The 4-layer model is built\n"
     ]
    }
   ],
   "source": [
    "\n",
    "################################## FIRST LAYER #######################################\n",
    "\n",
    "X=T.matrix(\"data\")\n",
    "y=T.ivector(\"label\")\n",
    "idx=T.lscalar()\n",
    "corruption_level=T.fscalar()\n",
    "\n",
    "images=X.reshape((batch_size, 1, 32, 32))\n",
    "\n",
    "layer_0_en=ReLUConvLayer(filter_size=(7,7),\n",
    "                         num_filters=50,\n",
    "                         num_channels=1,\n",
    "                         fm_size=(32,32),\n",
    "                         batch_size=batch_size)\n",
    "                                                  \n",
    "layer_0_de=SigmoidConvLayer(filter_size=(7,7),\n",
    "                            num_filters=1,\n",
    "                            num_channels=50,\n",
    "                            fm_size=(26,26),\n",
    "                            batch_size=batch_size,\n",
    "                            border_mode=\"full\")\n",
    "                         \n",
    "layer_1_en=ReLUConvLayer(filter_size=(5,5),\n",
    "                         num_filters=50,\n",
    "                         num_channels=50,\n",
    "                         fm_size=(26,26),\n",
    "                         batch_size=batch_size)\n",
    "                                                   \n",
    "layer_1_de=SigmoidConvLayer(filter_size=(5,5),\n",
    "                            num_filters=50,\n",
    "                            num_channels=50,\n",
    "                            fm_size=(22,22),\n",
    "                            batch_size=batch_size,\n",
    "                            border_mode=\"full\")\n",
    "\n",
    "layer_2_en=ReLUConvLayer(filter_size=(5,5),\n",
    "                         num_filters=50,\n",
    "                         num_channels=50,\n",
    "                         fm_size=(22,22),\n",
    "                         batch_size=batch_size)\n",
    "                                                   \n",
    "layer_2_de=SigmoidConvLayer(filter_size=(5,5),\n",
    "                            num_filters=50,\n",
    "                            num_channels=50,\n",
    "                            fm_size=(18,18),\n",
    "                            batch_size=batch_size,\n",
    "                            border_mode=\"full\")\n",
    "\n",
    "layer_3_en=ReLUConvLayer(filter_size=(3,3),\n",
    "                         num_filters=50,\n",
    "                         num_channels=50,\n",
    "                         fm_size=(18,18),\n",
    "                         batch_size=batch_size)\n",
    "                                                   \n",
    "layer_3_de=SigmoidConvLayer(filter_size=(3,3),\n",
    "                            num_filters=50,\n",
    "                            num_channels=50,\n",
    "                            fm_size=(16,16),\n",
    "                            batch_size=batch_size,\n",
    "                            border_mode=\"full\")\n",
    "\n",
    "model_0=ConvAutoEncoder(layers=[layer_0_en, layer_0_de])\n",
    "out_0=model_0.fprop(images, corruption_level=corruption_level)\n",
    "cost_0=mean_square_cost(out_0[-1], images)+L2_regularization(model_0.params, 0.005)\n",
    "updates_0=gd_updates(cost=cost_0, params=model_0.params, method=\"sgd\", learning_rate=0.1)\n",
    "\n",
    "model_1=ConvAutoEncoder(layers=[layer_1_en, layer_1_de])\n",
    "out_1=model_1.fprop(out_0[0], corruption_level=corruption_level)\n",
    "cost_1=mean_square_cost(out_1[-1], out_0[0])+L2_regularization(model_1.params, 0.005)\n",
    "updates_1=gd_updates(cost=cost_1, params=model_1.params, method=\"sgd\", learning_rate=0.1)\n",
    "\n",
    "model_2=ConvAutoEncoder(layers=[layer_2_en, layer_2_de])\n",
    "out_2=model_2.fprop(out_1[0], corruption_level=corruption_level)\n",
    "cost_2=mean_square_cost(out_2[-1], out_1[0])+L2_regularization(model_2.params, 0.005)\n",
    "updates_2=gd_updates(cost=cost_2, params=model_2.params, method=\"sgd\", learning_rate=0.1)\n",
    "\n",
    "model_3=ConvAutoEncoder(layers=[layer_3_en, layer_3_de])\n",
    "out_3=model_3.fprop(out_2[0], corruption_level=corruption_level)\n",
    "cost_3=mean_square_cost(out_3[-1], out_2[0])+L2_regularization(model_3.params, 0.005)\n",
    "updates_3=gd_updates(cost=cost_3, params=model_3.params, method=\"sgd\", learning_rate=0.1)\n",
    "\n",
    "train_0=theano.function(inputs=[idx, corruption_level],\n",
    "                        outputs=[cost_0],\n",
    "                        updates=updates_0,\n",
    "                        givens={X: train_set_x[idx * batch_size: (idx + 1) * batch_size]})\n",
    "\n",
    "train_1=theano.function(inputs=[idx, corruption_level],\n",
    "                        outputs=[cost_1],\n",
    "                        updates=updates_1,\n",
    "                        givens={X: train_set_x[idx * batch_size: (idx + 1) * batch_size]})\n",
    "\n",
    "train_2=theano.function(inputs=[idx, corruption_level],\n",
    "                        outputs=[cost_2],\n",
    "                        updates=updates_2,\n",
    "                        givens={X: train_set_x[idx * batch_size: (idx + 1) * batch_size]})\n",
    "\n",
    "train_3=theano.function(inputs=[idx, corruption_level],\n",
    "                        outputs=[cost_3],\n",
    "                        updates=updates_3,\n",
    "                        givens={X: train_set_x[idx * batch_size: (idx + 1) * batch_size]})\n",
    "                      \n",
    "print \"[MESSAGE] The 4-layer model is built\""
   ]
  },
  {
   "cell_type": "code",
   "execution_count": 84,
   "metadata": {
    "collapsed": false
   },
   "outputs": [
    {
     "name": "stdout",
     "output_type": "stream",
     "text": [
      "(10, 500)\n"
     ]
    }
   ],
   "source": [
    "layer = layer_0_de\n",
    "\n",
    "data = np.zeros(((layer.filter_size[0] + 3) * layer.num_filters,(layer.filter_size[1] + 3) * layer.num_channels), dtype=np.float32 )\n",
    "data[::] = -0.1 #some activations are below 0, to keep borders black set them to -0.1\n",
    "\n",
    "for filter_index in xrange(layer.num_filters):\n",
    "    for channel_index in xrange(layer.num_channels):\n",
    "        arr = layer.filters.get_value()[filter_index][channel_index]\n",
    "        for p in xrange(layer.filter_size[0]):\n",
    "            for q in xrange(layer.filter_size[1]):\n",
    "                data[filter_index*(3+layer.filter_size[1])+p][channel_index*(3+layer.filter_size[1])+q] = arr[p][q]\n",
    "            \n",
    "print data.shape\n",
    "img = smp.toimage(data)\n",
    "img.save(\"layer_0_de.png\")\n"
   ]
  },
  {
   "cell_type": "code",
   "execution_count": 26,
   "metadata": {
    "collapsed": false
   },
   "outputs": [
    {
     "data": {
      "text/plain": [
       "(7, 7)"
      ]
     },
     "execution_count": 26,
     "metadata": {},
     "output_type": "execute_result"
    }
   ],
   "source": [
    "layer_0_de.filter_size"
   ]
  },
  {
   "cell_type": "code",
   "execution_count": 14,
   "metadata": {
    "collapsed": false
   },
   "outputs": [],
   "source": [
    "plt.savefig('plot_layer0_de.png')"
   ]
  },
  {
   "cell_type": "code",
   "execution_count": null,
   "metadata": {
    "collapsed": true
   },
   "outputs": [],
   "source": [
    "plt.show()"
   ]
  },
  {
   "cell_type": "code",
   "execution_count": 23,
   "metadata": {
    "collapsed": false
   },
   "outputs": [
    {
     "ename": "ValueError",
     "evalue": "'arr' does not have a suitable array shape for any mode.",
     "output_type": "error",
     "traceback": [
      "\u001b[0;31m---------------------------------------------------------------------------\u001b[0m",
      "\u001b[0;31mValueError\u001b[0m                                Traceback (most recent call last)",
      "\u001b[0;32m<ipython-input-23-accef89cfd05>\u001b[0m in \u001b[0;36m<module>\u001b[0;34m()\u001b[0m\n\u001b[0;32m----> 1\u001b[0;31m \u001b[0mimg\u001b[0m \u001b[0;34m=\u001b[0m \u001b[0msmp\u001b[0m\u001b[0;34m.\u001b[0m\u001b[0mtoimage\u001b[0m\u001b[0;34m(\u001b[0m \u001b[0marr\u001b[0m \u001b[0;34m)\u001b[0m\u001b[0;34m\u001b[0m\u001b[0m\n\u001b[0m",
      "\u001b[0;32m/usr/local/lib/python2.7/site-packages/scipy/misc/pilutil.pyc\u001b[0m in \u001b[0;36mtoimage\u001b[0;34m(arr, high, low, cmin, cmax, pal, mode, channel_axis)\u001b[0m\n\u001b[1;32m    285\u001b[0m                                 ((3 in shape) or (4 in shape)))\n\u001b[1;32m    286\u001b[0m     \u001b[0;32mif\u001b[0m \u001b[0;32mnot\u001b[0m \u001b[0mvalid\u001b[0m\u001b[0;34m:\u001b[0m\u001b[0;34m\u001b[0m\u001b[0m\n\u001b[0;32m--> 287\u001b[0;31m         raise ValueError(\"'arr' does not have a suitable array shape for \"\n\u001b[0m\u001b[1;32m    288\u001b[0m                          \"any mode.\")\n\u001b[1;32m    289\u001b[0m     \u001b[0;32mif\u001b[0m \u001b[0mlen\u001b[0m\u001b[0;34m(\u001b[0m\u001b[0mshape\u001b[0m\u001b[0;34m)\u001b[0m \u001b[0;34m==\u001b[0m \u001b[0;36m2\u001b[0m\u001b[0;34m:\u001b[0m\u001b[0;34m\u001b[0m\u001b[0m\n",
      "\u001b[0;31mValueError\u001b[0m: 'arr' does not have a suitable array shape for any mode."
     ]
    }
   ],
   "source": [
    "img = smp.toimage( arr )"
   ]
  },
  {
   "cell_type": "code",
   "execution_count": 20,
   "metadata": {
    "collapsed": true
   },
   "outputs": [],
   "source": [
    "img.save(\"rawdraw.png\")"
   ]
  },
  {
   "cell_type": "code",
   "execution_count": null,
   "metadata": {
    "collapsed": true
   },
   "outputs": [],
   "source": []
  }
 ],
 "metadata": {
  "kernelspec": {
   "display_name": "Python 2",
   "language": "python",
   "name": "python2"
  },
  "language_info": {
   "codemirror_mode": {
    "name": "ipython",
    "version": 2
   },
   "file_extension": ".py",
   "mimetype": "text/x-python",
   "name": "python",
   "nbconvert_exporter": "python",
   "pygments_lexer": "ipython2",
   "version": "2.7.12"
  }
 },
 "nbformat": 4,
 "nbformat_minor": 0
}
